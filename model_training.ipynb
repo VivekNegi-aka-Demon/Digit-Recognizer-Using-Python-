{
 "cells": [
  {
   "cell_type": "code",
   "execution_count": 1,
   "id": "95dd3fc9",
   "metadata": {},
   "outputs": [],
   "source": [
    "# Importing All necessary modules for model_training\n",
    "import numpy as np\n",
    "import pandas as pd\n",
    "import matplotlib.pyplot as plt\n",
    "import tensorflow as tf\n",
    "from tensorflow import keras"
   ]
  },
  {
   "cell_type": "code",
   "execution_count": 2,
   "id": "c7f2e62b",
   "metadata": {},
   "outputs": [],
   "source": [
    "# fetching data set from keras\n",
    "(X_train_full,Y_train_full),(X_test,Y_test) = keras.datasets.mnist.load_data()"
   ]
  },
  {
   "cell_type": "code",
   "execution_count": 3,
   "id": "54a6b133",
   "metadata": {},
   "outputs": [
    {
     "name": "stdout",
     "output_type": "stream",
     "text": [
      "The shape of X_train_full is (60000, 28, 28)\n",
      "The shape of Y_train_full is (60000,)\n",
      "The shape of X_test is (10000, 28, 28)\n",
      "The shape of Y_test is (10000,)\n"
     ]
    }
   ],
   "source": [
    "\n",
    "# Showing the shapes of tables be used\n",
    "\n",
    "print(f\"The shape of X_train_full is {X_train_full.shape}\")\n",
    "print(f\"The shape of Y_train_full is {Y_train_full.shape}\")\n",
    "print(f\"The shape of X_test is {X_test.shape}\")\n",
    "print(f\"The shape of Y_test is {Y_test.shape}\")\n"
   ]
  },
  {
   "cell_type": "markdown",
   "id": "c760b4b6",
   "metadata": {},
   "source": [
    "## The images in the data is 28 X 28 in pixels with intensity between 0 and 255"
   ]
  },
  {
   "cell_type": "code",
   "execution_count": 4,
   "id": "e78ddd27",
   "metadata": {
    "scrolled": true
   },
   "outputs": [
    {
     "data": {
      "text/plain": [
       "array([[  0,   0,   0,   0,   0,   0,   0,   0,   0,   0,   0,   0,   0,\n",
       "          0,   0,   0,   0,   0,   0,   0,   0,   0,   0,   0,   0,   0,\n",
       "          0,   0],\n",
       "       [  0,   0,   0,   0,   0,   0,   0,   0,   0,   0,   0,   0,   0,\n",
       "          0,   0,   0,   0,   0,   0,   0,   0,   0,   0,   0,   0,   0,\n",
       "          0,   0],\n",
       "       [  0,   0,   0,   0,   0,   0,   0,   0,   0,   0,   0,   0,   0,\n",
       "          0,   0,   0,   0,   0,   0,   0,   0,   0,   0,   0,   0,   0,\n",
       "          0,   0],\n",
       "       [  0,   0,   0,   0,   0,   0,   0,   0,   0,   0,   0,   0,   0,\n",
       "          0,   0,   0,   0,   0,   0,   0,   0,   0,   0,   0,   0,   0,\n",
       "          0,   0],\n",
       "       [  0,   0,   0,   0,   0,   0,   0,   0,   0,   0,   0,   0,   0,\n",
       "          0,   0,   0,   0,   0,   0,   0,   0,   0,   0,   0,   0,   0,\n",
       "          0,   0],\n",
       "       [  0,   0,   0,   0,   0,   0,   0,   0,   0,   0,   0,   0,   3,\n",
       "         18,  18,  18, 126, 136, 175,  26, 166, 255, 247, 127,   0,   0,\n",
       "          0,   0],\n",
       "       [  0,   0,   0,   0,   0,   0,   0,   0,  30,  36,  94, 154, 170,\n",
       "        253, 253, 253, 253, 253, 225, 172, 253, 242, 195,  64,   0,   0,\n",
       "          0,   0],\n",
       "       [  0,   0,   0,   0,   0,   0,   0,  49, 238, 253, 253, 253, 253,\n",
       "        253, 253, 253, 253, 251,  93,  82,  82,  56,  39,   0,   0,   0,\n",
       "          0,   0],\n",
       "       [  0,   0,   0,   0,   0,   0,   0,  18, 219, 253, 253, 253, 253,\n",
       "        253, 198, 182, 247, 241,   0,   0,   0,   0,   0,   0,   0,   0,\n",
       "          0,   0],\n",
       "       [  0,   0,   0,   0,   0,   0,   0,   0,  80, 156, 107, 253, 253,\n",
       "        205,  11,   0,  43, 154,   0,   0,   0,   0,   0,   0,   0,   0,\n",
       "          0,   0],\n",
       "       [  0,   0,   0,   0,   0,   0,   0,   0,   0,  14,   1, 154, 253,\n",
       "         90,   0,   0,   0,   0,   0,   0,   0,   0,   0,   0,   0,   0,\n",
       "          0,   0],\n",
       "       [  0,   0,   0,   0,   0,   0,   0,   0,   0,   0,   0, 139, 253,\n",
       "        190,   2,   0,   0,   0,   0,   0,   0,   0,   0,   0,   0,   0,\n",
       "          0,   0],\n",
       "       [  0,   0,   0,   0,   0,   0,   0,   0,   0,   0,   0,  11, 190,\n",
       "        253,  70,   0,   0,   0,   0,   0,   0,   0,   0,   0,   0,   0,\n",
       "          0,   0],\n",
       "       [  0,   0,   0,   0,   0,   0,   0,   0,   0,   0,   0,   0,  35,\n",
       "        241, 225, 160, 108,   1,   0,   0,   0,   0,   0,   0,   0,   0,\n",
       "          0,   0],\n",
       "       [  0,   0,   0,   0,   0,   0,   0,   0,   0,   0,   0,   0,   0,\n",
       "         81, 240, 253, 253, 119,  25,   0,   0,   0,   0,   0,   0,   0,\n",
       "          0,   0],\n",
       "       [  0,   0,   0,   0,   0,   0,   0,   0,   0,   0,   0,   0,   0,\n",
       "          0,  45, 186, 253, 253, 150,  27,   0,   0,   0,   0,   0,   0,\n",
       "          0,   0],\n",
       "       [  0,   0,   0,   0,   0,   0,   0,   0,   0,   0,   0,   0,   0,\n",
       "          0,   0,  16,  93, 252, 253, 187,   0,   0,   0,   0,   0,   0,\n",
       "          0,   0],\n",
       "       [  0,   0,   0,   0,   0,   0,   0,   0,   0,   0,   0,   0,   0,\n",
       "          0,   0,   0,   0, 249, 253, 249,  64,   0,   0,   0,   0,   0,\n",
       "          0,   0],\n",
       "       [  0,   0,   0,   0,   0,   0,   0,   0,   0,   0,   0,   0,   0,\n",
       "          0,  46, 130, 183, 253, 253, 207,   2,   0,   0,   0,   0,   0,\n",
       "          0,   0],\n",
       "       [  0,   0,   0,   0,   0,   0,   0,   0,   0,   0,   0,   0,  39,\n",
       "        148, 229, 253, 253, 253, 250, 182,   0,   0,   0,   0,   0,   0,\n",
       "          0,   0],\n",
       "       [  0,   0,   0,   0,   0,   0,   0,   0,   0,   0,  24, 114, 221,\n",
       "        253, 253, 253, 253, 201,  78,   0,   0,   0,   0,   0,   0,   0,\n",
       "          0,   0],\n",
       "       [  0,   0,   0,   0,   0,   0,   0,   0,  23,  66, 213, 253, 253,\n",
       "        253, 253, 198,  81,   2,   0,   0,   0,   0,   0,   0,   0,   0,\n",
       "          0,   0],\n",
       "       [  0,   0,   0,   0,   0,   0,  18, 171, 219, 253, 253, 253, 253,\n",
       "        195,  80,   9,   0,   0,   0,   0,   0,   0,   0,   0,   0,   0,\n",
       "          0,   0],\n",
       "       [  0,   0,   0,   0,  55, 172, 226, 253, 253, 253, 253, 244, 133,\n",
       "         11,   0,   0,   0,   0,   0,   0,   0,   0,   0,   0,   0,   0,\n",
       "          0,   0],\n",
       "       [  0,   0,   0,   0, 136, 253, 253, 253, 212, 135, 132,  16,   0,\n",
       "          0,   0,   0,   0,   0,   0,   0,   0,   0,   0,   0,   0,   0,\n",
       "          0,   0],\n",
       "       [  0,   0,   0,   0,   0,   0,   0,   0,   0,   0,   0,   0,   0,\n",
       "          0,   0,   0,   0,   0,   0,   0,   0,   0,   0,   0,   0,   0,\n",
       "          0,   0],\n",
       "       [  0,   0,   0,   0,   0,   0,   0,   0,   0,   0,   0,   0,   0,\n",
       "          0,   0,   0,   0,   0,   0,   0,   0,   0,   0,   0,   0,   0,\n",
       "          0,   0],\n",
       "       [  0,   0,   0,   0,   0,   0,   0,   0,   0,   0,   0,   0,   0,\n",
       "          0,   0,   0,   0,   0,   0,   0,   0,   0,   0,   0,   0,   0,\n",
       "          0,   0]], dtype=uint8)"
      ]
     },
     "execution_count": 4,
     "metadata": {},
     "output_type": "execute_result"
    }
   ],
   "source": [
    "# Viewing the data for first row of X_train_full\n",
    "X_train_full[0]"
   ]
  },
  {
   "cell_type": "code",
   "execution_count": 6,
   "id": "277b74c1",
   "metadata": {},
   "outputs": [
    {
     "data": {
      "text/plain": [
       "Text(0.5, 1.0, '9')"
      ]
     },
     "execution_count": 6,
     "metadata": {},
     "output_type": "execute_result"
    },
    {
     "data": {
      "image/png": "[encoded data removed]",
      "text/plain": [
       "<Figure size 1080x360 with 5 Axes>"
      ]
     },
     "metadata": {
      "needs_background": "light"
     },
     "output_type": "display_data"
    }
   ],
   "source": [
    "# Seeing images from rows and its true value\n",
    "plt.rcParams['figure.figsize'] = (15, 5)\n",
    "plt.subplot(1,5,1)\n",
    "plt.imshow(X_train_full[10])\n",
    "plt.title(Y_train_full[10])\n",
    "\n",
    "\n",
    "plt.subplot(1,5,2)\n",
    "plt.imshow(X_train_full[1])\n",
    "plt.title(Y_train_full[1])\n",
    "\n",
    "plt.subplot(1,5,3)\n",
    "plt.imshow(X_train_full[2])\n",
    "plt.title(Y_train_full[2])\n",
    "\n",
    "plt.subplot(1,5,4)\n",
    "plt.imshow(X_train_full[3])\n",
    "plt.title(Y_train_full[3])\n",
    "\n",
    "plt.subplot(1,5,5)\n",
    "plt.imshow(X_train_full[4])\n",
    "plt.title(Y_train_full[4])"
   ]
  },
  {
   "cell_type": "code",
   "execution_count": 7,
   "id": "441992ef",
   "metadata": {},
   "outputs": [],
   "source": [
    "# declaring the class names\n",
    "# here class is used because the output neuron will give 10 class respectively.\n",
    "\n",
    "class_names=[0,1,2,3,4,5,6,7,8,9]\n"
   ]
  },
  {
   "cell_type": "markdown",
   "id": "219f1ff7",
   "metadata": {},
   "source": [
    "# Data Normalization\n",
    "* We then normalize the data dimensions so that they are of approximately the same size."
   ]
  },
  {
   "cell_type": "code",
   "execution_count": 8,
   "id": "7a6dfc76",
   "metadata": {},
   "outputs": [],
   "source": [
    "X_train_full = X_train_full.reshape(X_train_full.shape[0], 28, 28, 1)\n",
    "X_test = X_test.reshape(X_test.shape[0], 28, 28, 1)\n",
    "input_shape = (28, 28, 1)\n",
    "\n",
    "# normalizing The Data\n",
    "X_train_n = X_train_full/255.\n",
    "X_test_n = X_test / 255. \n"
   ]
  },
  {
   "cell_type": "markdown",
   "id": "fc3cc339",
   "metadata": {},
   "source": [
    "## Split the data into train/vadilation /test datasets\n",
    "In the earlier step of importing the data, we had 60000 datasets for training data into train/validation.\n",
    "Here is how each datasets is used in deep learning.\n",
    "* Training data : used for the training model\n",
    "* Validation data : used for tuning the hyperparameters and evaluate the model\n",
    "* Test data : used to test the model after the model has gone through the initial vetting by the validation set.\n"
   ]
  },
  {
   "cell_type": "code",
   "execution_count": 10,
   "id": "d00a9493",
   "metadata": {},
   "outputs": [],
   "source": [
    "X_valid,X_train = X_train_n[:5000],X_train_n[5000:]\n",
    "Y_valid, Y_train = Y_train_full[:5000],Y_train_full[5000:]\n",
    "X_test = X_test_n"
   ]
  },
  {
   "cell_type": "markdown",
   "id": "262e0f09",
   "metadata": {},
   "source": [
    "# Data is prepared to be used in Model Training"
   ]
  },
  {
   "cell_type": "markdown",
   "id": "0065581e",
   "metadata": {},
   "source": [
    "."
   ]
  },
  {
   "cell_type": "markdown",
   "id": "028a6ff9",
   "metadata": {},
   "source": [
    "."
   ]
  },
  {
   "cell_type": "markdown",
   "id": "93aaf8e6",
   "metadata": {},
   "source": [
    "."
   ]
  },
  {
   "cell_type": "markdown",
   "id": "3bf9327f",
   "metadata": {},
   "source": [
    "."
   ]
  },
  {
   "cell_type": "markdown",
   "id": "47129b97",
   "metadata": {},
   "source": [
    "# Create a  model architecture\n",
    "We'll use sequential model to classify handwritten digits."
   ]
  },
  {
   "cell_type": "markdown",
   "id": "4137a555",
   "metadata": {},
   "source": [
    "."
   ]
  },
  {
   "cell_type": "markdown",
   "id": "b5354264",
   "metadata": {},
   "source": [
    "."
   ]
  },
  {
   "cell_type": "markdown",
   "id": "7e53a0a1",
   "metadata": {},
   "source": [
    "."
   ]
  },
  {
   "cell_type": "code",
   "execution_count": 11,
   "id": "eccbd3e2",
   "metadata": {},
   "outputs": [],
   "source": [
    "# making random seed to make same result come everytime we fit the model with same data\n",
    "np.random.seed(42)\n",
    "tf.random.set_seed(42) \n",
    "\n",
    "# used to replicate same result everytime"
   ]
  },
  {
   "cell_type": "code",
   "execution_count": 1,
   "id": "d38e4d4f",
   "metadata": {},
   "outputs": [
    {
     "ename": "NameError",
     "evalue": "name 'keras' is not defined",
     "output_type": "error",
     "traceback": [
      "\u001b[1;31m---------------------------------------------------------------------------\u001b[0m",
      "\u001b[1;31mNameError\u001b[0m                                 Traceback (most recent call last)",
      "\u001b[1;32m<ipython-input-1-2293401da837>\u001b[0m in \u001b[0;36m<module>\u001b[1;34m\u001b[0m\n\u001b[0;32m      1\u001b[0m \u001b[1;31m# model making\u001b[0m\u001b[1;33m\u001b[0m\u001b[1;33m\u001b[0m\u001b[1;33m\u001b[0m\u001b[0m\n\u001b[0;32m      2\u001b[0m \u001b[1;33m\u001b[0m\u001b[0m\n\u001b[1;32m----> 3\u001b[1;33m \u001b[0mmodel\u001b[0m \u001b[1;33m=\u001b[0m \u001b[0mkeras\u001b[0m\u001b[1;33m.\u001b[0m\u001b[0mmodels\u001b[0m\u001b[1;33m.\u001b[0m\u001b[0mSequential\u001b[0m\u001b[1;33m(\u001b[0m\u001b[1;33m)\u001b[0m\u001b[1;33m\u001b[0m\u001b[1;33m\u001b[0m\u001b[0m\n\u001b[0m\u001b[0;32m      4\u001b[0m \u001b[1;33m\u001b[0m\u001b[0m\n\u001b[0;32m      5\u001b[0m \u001b[0mmodel\u001b[0m\u001b[1;33m.\u001b[0m\u001b[0madd\u001b[0m\u001b[1;33m(\u001b[0m\u001b[0mkeras\u001b[0m\u001b[1;33m.\u001b[0m\u001b[0mlayers\u001b[0m\u001b[1;33m.\u001b[0m\u001b[0mConv2D\u001b[0m\u001b[1;33m(\u001b[0m\u001b[1;36m32\u001b[0m\u001b[1;33m,\u001b[0m \u001b[1;33m(\u001b[0m\u001b[1;36m3\u001b[0m\u001b[1;33m,\u001b[0m\u001b[1;36m3\u001b[0m\u001b[1;33m)\u001b[0m\u001b[1;33m,\u001b[0m\u001b[0mstrides\u001b[0m\u001b[1;33m=\u001b[0m \u001b[1;33m(\u001b[0m\u001b[1;36m1\u001b[0m\u001b[1;33m,\u001b[0m\u001b[1;36m1\u001b[0m\u001b[1;33m)\u001b[0m\u001b[1;33m,\u001b[0m\u001b[0mpadding\u001b[0m\u001b[1;33m=\u001b[0m\u001b[1;34m\"valid\"\u001b[0m\u001b[1;33m,\u001b[0m\u001b[0mactivation\u001b[0m \u001b[1;33m=\u001b[0m \u001b[1;34m\"relu\"\u001b[0m\u001b[1;33m,\u001b[0m\u001b[0minput_shape\u001b[0m\u001b[1;33m=\u001b[0m\u001b[1;33m[\u001b[0m\u001b[1;36m28\u001b[0m\u001b[1;33m,\u001b[0m\u001b[1;36m28\u001b[0m\u001b[1;33m,\u001b[0m\u001b[1;36m1\u001b[0m\u001b[1;33m]\u001b[0m\u001b[1;33m)\u001b[0m\u001b[1;33m)\u001b[0m\u001b[1;33m\u001b[0m\u001b[1;33m\u001b[0m\u001b[0m\n",
      "\u001b[1;31mNameError\u001b[0m: name 'keras' is not defined"
     ]
    }
   ],
   "source": [
    "# model making\n",
    "\n",
    "model = keras.models.Sequential()\n",
    "\n",
    "model.add(keras.layers.Conv2D(32, (3,3),strides= (1,1),padding=\"valid\",activation = \"relu\",input_shape=[28,28,1]))\n",
    "model.add(keras.layers.Conv2D(64, (3,3),activation = \"relu\",strides = (1,1),padding=\"valid\"))\n",
    "model.add(keras.layers.MaxPooling2D(pool_size=(2,2),strides=(2,2)))\n",
    "model.add(keras.layers.Dropout(0.25))\n",
    "\n",
    "model.add(keras.layers.Conv2D(64, (3,3),activation = \"relu\",strides = (1,1),padding=\"valid\"))\n",
    "model.add(keras.layers.MaxPooling2D(pool_size=(2,2),strides=(2,2)))\n",
    "model.add(keras.layers.Dropout(0.25))\n",
    "\n",
    "model.add(keras.layers.Flatten())\n",
    "model.add(keras.layers.Dense(128, activation='relu'))\n",
    "model.add(keras.layers.Dropout(0.3))\n",
    "model.add(keras.layers.Dense(128, activation='relu'))\n",
    "model.add(keras.layers.Dropout(0.5))\n",
    "model.add(keras.layers.Dense(10, activation='softmax'))"
   ]
  },
  {
   "cell_type": "code",
   "execution_count": 13,
   "id": "e1c0cd16",
   "metadata": {},
   "outputs": [
    {
     "name": "stdout",
     "output_type": "stream",
     "text": [
      "Model: \"sequential\"\n",
      "_________________________________________________________________\n",
      "Layer (type)                 Output Shape              Param #   \n",
      "=================================================================\n",
      "conv2d (Conv2D)              (None, 26, 26, 32)        320       \n",
      "_________________________________________________________________\n",
      "conv2d_1 (Conv2D)            (None, 24, 24, 64)        18496     \n",
      "_________________________________________________________________\n",
      "max_pooling2d (MaxPooling2D) (None, 12, 12, 64)        0         \n",
      "_________________________________________________________________\n",
      "dropout (Dropout)            (None, 12, 12, 64)        0         \n",
      "_________________________________________________________________\n",
      "conv2d_2 (Conv2D)            (None, 10, 10, 64)        36928     \n",
      "_________________________________________________________________\n",
      "max_pooling2d_1 (MaxPooling2 (None, 5, 5, 64)          0         \n",
      "_________________________________________________________________\n",
      "dropout_1 (Dropout)          (None, 5, 5, 64)          0         \n",
      "_________________________________________________________________\n",
      "flatten (Flatten)            (None, 1600)              0         \n",
      "_________________________________________________________________\n",
      "dense (Dense)                (None, 128)               204928    \n",
      "_________________________________________________________________\n",
      "dropout_2 (Dropout)          (None, 128)               0         \n",
      "_________________________________________________________________\n",
      "dense_1 (Dense)              (None, 128)               16512     \n",
      "_________________________________________________________________\n",
      "dropout_3 (Dropout)          (None, 128)               0         \n",
      "_________________________________________________________________\n",
      "dense_2 (Dense)              (None, 10)                1290      \n",
      "=================================================================\n",
      "Total params: 278,474\n",
      "Trainable params: 278,474\n",
      "Non-trainable params: 0\n",
      "_________________________________________________________________\n"
     ]
    }
   ],
   "source": [
    "# Model Architecture\n",
    "model.summary()"
   ]
  },
  {
   "cell_type": "code",
   "execution_count": 14,
   "id": "c8a90ef4",
   "metadata": {
    "scrolled": false
   },
   "outputs": [
    {
     "data": {
      "image/png": "[encoded data removed]",
      "text/plain": [
       "<IPython.core.display.Image object>"
      ]
     },
     "execution_count": 14,
     "metadata": {},
     "output_type": "execute_result"
    }
   ],
   "source": [
    "# model shape\n",
    "keras.utils.plot_model(model, \"model_with_shape_info.png\", show_shapes=True)"
   ]
  },
  {
   "cell_type": "code",
   "execution_count": 13,
   "id": "f8b44d61",
   "metadata": {},
   "outputs": [],
   "source": [
    "# To show the weights we use .get_weights()\n",
    "\n",
    "#model.get_weights()\n",
    "\n",
    "# these are random weights for now we will use SGD(optimization technique) to get minimum of function"
   ]
  },
  {
   "cell_type": "code",
   "execution_count": 14,
   "id": "e02905c3",
   "metadata": {},
   "outputs": [],
   "source": [
    "# to get weights and biases\n",
    "weights , biases = model.layers[1].get_weights()"
   ]
  },
  {
   "cell_type": "code",
   "execution_count": 15,
   "id": "cdce1d04",
   "metadata": {},
   "outputs": [
    {
     "data": {
      "text/plain": [
       "(3, 3, 32, 64)"
      ]
     },
     "execution_count": 15,
     "metadata": {},
     "output_type": "execute_result"
    }
   ],
   "source": [
    "weights.shape"
   ]
  },
  {
   "cell_type": "code",
   "execution_count": 15,
   "id": "95ad2927",
   "metadata": {},
   "outputs": [],
   "source": [
    "# compiling the model \n",
    "# here cross entropy error function is used and stochastic Gradient Descent as activation function\n",
    "model.compile(loss=\"sparse_categorical_crossentropy\",\n",
    "             optimizer = \"sgd\",\n",
    "             metrics=[\"accuracy\"]\n",
    "             )"
   ]
  },
  {
   "cell_type": "code",
   "execution_count": 16,
   "id": "e3a2aacc",
   "metadata": {},
   "outputs": [],
   "source": [
    "# Creating callbacks and saving model during training\n",
    "checkpoint_cb = keras.callbacks.ModelCheckpoint(\"Best_model.h5\",save_best_only=True)\n",
    "early_stop_cb = keras.callbacks.EarlyStopping(patience=10,restore_best_weights=True)"
   ]
  },
  {
   "cell_type": "code",
   "execution_count": 18,
   "id": "6ae779ea",
   "metadata": {
    "scrolled": false
   },
   "outputs": [
    {
     "name": "stdout",
     "output_type": "stream",
     "text": [
      "Epoch 1/100\n",
      "430/430 [==============================] - 61s 141ms/step - loss: 2.1822 - accuracy: 0.2105 - val_loss: 1.4464 - val_accuracy: 0.6804\n",
      "Epoch 2/100\n",
      "430/430 [==============================] - 61s 143ms/step - loss: 1.1762 - accuracy: 0.5959 - val_loss: 0.4696 - val_accuracy: 0.8860\n",
      "Epoch 3/100\n",
      "430/430 [==============================] - 57s 132ms/step - loss: 0.6879 - accuracy: 0.7749 - val_loss: 0.2828 - val_accuracy: 0.9275\n",
      "Epoch 4/100\n",
      "430/430 [==============================] - 60s 140ms/step - loss: 0.5008 - accuracy: 0.8444 - val_loss: 0.2032 - val_accuracy: 0.9426\n",
      "Epoch 5/100\n",
      "430/430 [==============================] - 60s 139ms/step - loss: 0.3952 - accuracy: 0.8786 - val_loss: 0.1648 - val_accuracy: 0.9521\n",
      "Epoch 6/100\n",
      "430/430 [==============================] - 57s 133ms/step - loss: 0.3327 - accuracy: 0.8995 - val_loss: 0.1402 - val_accuracy: 0.9578\n",
      "Epoch 7/100\n",
      "430/430 [==============================] - 57s 132ms/step - loss: 0.2930 - accuracy: 0.9137 - val_loss: 0.1215 - val_accuracy: 0.9635\n",
      "Epoch 8/100\n",
      "430/430 [==============================] - 57s 133ms/step - loss: 0.2627 - accuracy: 0.9226 - val_loss: 0.1118 - val_accuracy: 0.9666\n",
      "Epoch 9/100\n",
      "430/430 [==============================] - 58s 135ms/step - loss: 0.2387 - accuracy: 0.9304 - val_loss: 0.0991 - val_accuracy: 0.9688\n",
      "Epoch 10/100\n",
      "430/430 [==============================] - 57s 133ms/step - loss: 0.2169 - accuracy: 0.9372 - val_loss: 0.0908 - val_accuracy: 0.9719\n",
      "Epoch 11/100\n",
      "430/430 [==============================] - 57s 134ms/step - loss: 0.2011 - accuracy: 0.9412 - val_loss: 0.0846 - val_accuracy: 0.9737\n",
      "Epoch 12/100\n",
      "430/430 [==============================] - 60s 139ms/step - loss: 0.1913 - accuracy: 0.9442 - val_loss: 0.0784 - val_accuracy: 0.9755\n",
      "Epoch 13/100\n",
      "430/430 [==============================] - 57s 133ms/step - loss: 0.1804 - accuracy: 0.9480 - val_loss: 0.0728 - val_accuracy: 0.9777\n",
      "Epoch 14/100\n",
      "430/430 [==============================] - 57s 133ms/step - loss: 0.1699 - accuracy: 0.9502 - val_loss: 0.0714 - val_accuracy: 0.9775\n",
      "Epoch 15/100\n",
      "430/430 [==============================] - 58s 134ms/step - loss: 0.1635 - accuracy: 0.9528 - val_loss: 0.0664 - val_accuracy: 0.9793\n",
      "Epoch 16/100\n",
      "430/430 [==============================] - 62s 144ms/step - loss: 0.1570 - accuracy: 0.9546 - val_loss: 0.0629 - val_accuracy: 0.9810\n",
      "Epoch 17/100\n",
      "430/430 [==============================] - 58s 134ms/step - loss: 0.1470 - accuracy: 0.9573 - val_loss: 0.0599 - val_accuracy: 0.9807\n",
      "Epoch 18/100\n",
      "430/430 [==============================] - 58s 135ms/step - loss: 0.1399 - accuracy: 0.9595 - val_loss: 0.0595 - val_accuracy: 0.9815\n",
      "Epoch 19/100\n",
      "430/430 [==============================] - 57s 133ms/step - loss: 0.1350 - accuracy: 0.9612 - val_loss: 0.0561 - val_accuracy: 0.9812\n",
      "Epoch 20/100\n",
      "430/430 [==============================] - 57s 133ms/step - loss: 0.1327 - accuracy: 0.9620 - val_loss: 0.0530 - val_accuracy: 0.9827\n",
      "Epoch 21/100\n",
      "430/430 [==============================] - 59s 138ms/step - loss: 0.1283 - accuracy: 0.9645 - val_loss: 0.0522 - val_accuracy: 0.9836\n",
      "Epoch 22/100\n",
      "430/430 [==============================] - 58s 134ms/step - loss: 0.1225 - accuracy: 0.9652 - val_loss: 0.0503 - val_accuracy: 0.9845\n",
      "Epoch 23/100\n",
      "430/430 [==============================] - 58s 134ms/step - loss: 0.1176 - accuracy: 0.9661 - val_loss: 0.0475 - val_accuracy: 0.9847\n",
      "Epoch 24/100\n",
      "430/430 [==============================] - 57s 131ms/step - loss: 0.1165 - accuracy: 0.9659 - val_loss: 0.0472 - val_accuracy: 0.9850\n",
      "Epoch 25/100\n",
      "430/430 [==============================] - 57s 133ms/step - loss: 0.1139 - accuracy: 0.9679 - val_loss: 0.0453 - val_accuracy: 0.9849\n",
      "Epoch 26/100\n",
      "430/430 [==============================] - 57s 133ms/step - loss: 0.1108 - accuracy: 0.9687 - val_loss: 0.0445 - val_accuracy: 0.9854\n",
      "Epoch 27/100\n",
      "430/430 [==============================] - 57s 132ms/step - loss: 0.1074 - accuracy: 0.9701 - val_loss: 0.0422 - val_accuracy: 0.9861\n",
      "Epoch 28/100\n",
      "430/430 [==============================] - 57s 134ms/step - loss: 0.1046 - accuracy: 0.9699 - val_loss: 0.0407 - val_accuracy: 0.9868\n",
      "Epoch 29/100\n",
      "430/430 [==============================] - 57s 132ms/step - loss: 0.1022 - accuracy: 0.9713 - val_loss: 0.0410 - val_accuracy: 0.9873\n",
      "Epoch 30/100\n",
      "430/430 [==============================] - 57s 132ms/step - loss: 0.0975 - accuracy: 0.9721 - val_loss: 0.0404 - val_accuracy: 0.9864\n",
      "Epoch 31/100\n",
      "430/430 [==============================] - 57s 134ms/step - loss: 0.0981 - accuracy: 0.9718 - val_loss: 0.0389 - val_accuracy: 0.9873\n",
      "Epoch 32/100\n",
      "430/430 [==============================] - 57s 134ms/step - loss: 0.0933 - accuracy: 0.9736 - val_loss: 0.0384 - val_accuracy: 0.9873\n",
      "Epoch 33/100\n",
      "430/430 [==============================] - 59s 138ms/step - loss: 0.0948 - accuracy: 0.9726 - val_loss: 0.0386 - val_accuracy: 0.9878\n",
      "Epoch 34/100\n",
      "430/430 [==============================] - 57s 133ms/step - loss: 0.0903 - accuracy: 0.9740 - val_loss: 0.0366 - val_accuracy: 0.9876\n",
      "Epoch 35/100\n",
      "430/430 [==============================] - 58s 135ms/step - loss: 0.0922 - accuracy: 0.9739 - val_loss: 0.0371 - val_accuracy: 0.9879\n",
      "Epoch 36/100\n",
      "430/430 [==============================] - 57s 132ms/step - loss: 0.0891 - accuracy: 0.9741 - val_loss: 0.0375 - val_accuracy: 0.9881\n",
      "Epoch 37/100\n",
      "430/430 [==============================] - 57s 132ms/step - loss: 0.0891 - accuracy: 0.9744 - val_loss: 0.0362 - val_accuracy: 0.9878\n",
      "Epoch 38/100\n",
      "430/430 [==============================] - 59s 136ms/step - loss: 0.0862 - accuracy: 0.9758 - val_loss: 0.0356 - val_accuracy: 0.9879\n",
      "Epoch 39/100\n",
      "430/430 [==============================] - 57s 133ms/step - loss: 0.0848 - accuracy: 0.9763 - val_loss: 0.0340 - val_accuracy: 0.9893\n",
      "Epoch 40/100\n",
      "430/430 [==============================] - 59s 136ms/step - loss: 0.0825 - accuracy: 0.9758 - val_loss: 0.0351 - val_accuracy: 0.9887\n",
      "Epoch 41/100\n",
      "430/430 [==============================] - 58s 135ms/step - loss: 0.0817 - accuracy: 0.9769 - val_loss: 0.0341 - val_accuracy: 0.9894\n",
      "Epoch 42/100\n",
      "430/430 [==============================] - 57s 132ms/step - loss: 0.0801 - accuracy: 0.9771 - val_loss: 0.0333 - val_accuracy: 0.9895\n",
      "Epoch 43/100\n",
      "430/430 [==============================] - 57s 133ms/step - loss: 0.0792 - accuracy: 0.9771 - val_loss: 0.0329 - val_accuracy: 0.9896\n",
      "Epoch 44/100\n",
      "430/430 [==============================] - 58s 135ms/step - loss: 0.0786 - accuracy: 0.9773 - val_loss: 0.0323 - val_accuracy: 0.9895\n",
      "Epoch 45/100\n",
      "430/430 [==============================] - 68s 157ms/step - loss: 0.0788 - accuracy: 0.9781 - val_loss: 0.0320 - val_accuracy: 0.9897\n",
      "Epoch 46/100\n",
      "430/430 [==============================] - 67s 156ms/step - loss: 0.0795 - accuracy: 0.9774 - val_loss: 0.0310 - val_accuracy: 0.9905\n",
      "Epoch 47/100\n",
      "430/430 [==============================] - 58s 136ms/step - loss: 0.0742 - accuracy: 0.9792 - val_loss: 0.0309 - val_accuracy: 0.9905\n",
      "Epoch 48/100\n",
      "430/430 [==============================] - 59s 137ms/step - loss: 0.0736 - accuracy: 0.9787 - val_loss: 0.0311 - val_accuracy: 0.9899\n",
      "Epoch 49/100\n",
      "430/430 [==============================] - 59s 137ms/step - loss: 0.0739 - accuracy: 0.9798 - val_loss: 0.0300 - val_accuracy: 0.9903\n",
      "Epoch 50/100\n",
      "430/430 [==============================] - 60s 138ms/step - loss: 0.0750 - accuracy: 0.9793 - val_loss: 0.0309 - val_accuracy: 0.9902\n",
      "Epoch 51/100\n",
      "430/430 [==============================] - 59s 137ms/step - loss: 0.0723 - accuracy: 0.9799 - val_loss: 0.0298 - val_accuracy: 0.9903\n",
      "Epoch 52/100\n",
      "430/430 [==============================] - 59s 137ms/step - loss: 0.0717 - accuracy: 0.9798 - val_loss: 0.0288 - val_accuracy: 0.9907\n",
      "Epoch 53/100\n",
      "430/430 [==============================] - 59s 136ms/step - loss: 0.0708 - accuracy: 0.9795 - val_loss: 0.0290 - val_accuracy: 0.9907\n",
      "Epoch 54/100\n",
      "430/430 [==============================] - 59s 136ms/step - loss: 0.0681 - accuracy: 0.9803 - val_loss: 0.0285 - val_accuracy: 0.9914\n",
      "Epoch 55/100\n",
      "430/430 [==============================] - 61s 141ms/step - loss: 0.0679 - accuracy: 0.9808 - val_loss: 0.0279 - val_accuracy: 0.9915\n",
      "Epoch 56/100\n",
      "430/430 [==============================] - 59s 136ms/step - loss: 0.0668 - accuracy: 0.9804 - val_loss: 0.0280 - val_accuracy: 0.9915\n"
     ]
    },
    {
     "name": "stdout",
     "output_type": "stream",
     "text": [
      "Epoch 57/100\n",
      "430/430 [==============================] - 59s 136ms/step - loss: 0.0662 - accuracy: 0.9809 - val_loss: 0.0283 - val_accuracy: 0.9917\n",
      "Epoch 58/100\n",
      "430/430 [==============================] - 59s 137ms/step - loss: 0.0667 - accuracy: 0.9811 - val_loss: 0.0285 - val_accuracy: 0.9915\n",
      "Epoch 59/100\n",
      "430/430 [==============================] - 60s 139ms/step - loss: 0.0665 - accuracy: 0.9817 - val_loss: 0.0276 - val_accuracy: 0.9917\n",
      "Epoch 60/100\n",
      "430/430 [==============================] - 58s 136ms/step - loss: 0.0654 - accuracy: 0.9815 - val_loss: 0.0286 - val_accuracy: 0.9907\n",
      "Epoch 61/100\n",
      "430/430 [==============================] - 58s 134ms/step - loss: 0.0624 - accuracy: 0.9824 - val_loss: 0.0275 - val_accuracy: 0.9917\n",
      "Epoch 62/100\n",
      "430/430 [==============================] - 58s 134ms/step - loss: 0.0642 - accuracy: 0.9819 - val_loss: 0.0269 - val_accuracy: 0.9922\n",
      "Epoch 63/100\n",
      "430/430 [==============================] - 58s 135ms/step - loss: 0.0622 - accuracy: 0.9828 - val_loss: 0.0269 - val_accuracy: 0.9919\n",
      "Epoch 64/100\n",
      "430/430 [==============================] - 58s 136ms/step - loss: 0.0630 - accuracy: 0.9822 - val_loss: 0.0261 - val_accuracy: 0.9919\n",
      "Epoch 65/100\n",
      "430/430 [==============================] - 58s 135ms/step - loss: 0.0626 - accuracy: 0.9824 - val_loss: 0.0262 - val_accuracy: 0.9919\n",
      "Epoch 66/100\n",
      "430/430 [==============================] - 58s 134ms/step - loss: 0.0609 - accuracy: 0.9826 - val_loss: 0.0260 - val_accuracy: 0.9920\n",
      "Epoch 67/100\n",
      "430/430 [==============================] - 58s 134ms/step - loss: 0.0591 - accuracy: 0.9827 - val_loss: 0.0261 - val_accuracy: 0.9922\n",
      "Epoch 68/100\n",
      "430/430 [==============================] - 58s 135ms/step - loss: 0.0593 - accuracy: 0.9836 - val_loss: 0.0259 - val_accuracy: 0.9922\n",
      "Epoch 69/100\n",
      "430/430 [==============================] - 58s 135ms/step - loss: 0.0583 - accuracy: 0.9837 - val_loss: 0.0252 - val_accuracy: 0.9917\n",
      "Epoch 70/100\n",
      "430/430 [==============================] - 57s 133ms/step - loss: 0.0588 - accuracy: 0.9832 - val_loss: 0.0273 - val_accuracy: 0.9914\n",
      "Epoch 71/100\n",
      "430/430 [==============================] - 57s 133ms/step - loss: 0.0605 - accuracy: 0.9831 - val_loss: 0.0254 - val_accuracy: 0.9923\n",
      "Epoch 72/100\n",
      "430/430 [==============================] - 58s 134ms/step - loss: 0.0565 - accuracy: 0.9837 - val_loss: 0.0256 - val_accuracy: 0.9924\n",
      "Epoch 73/100\n",
      "430/430 [==============================] - 58s 134ms/step - loss: 0.0566 - accuracy: 0.9842 - val_loss: 0.0254 - val_accuracy: 0.9918\n",
      "Epoch 74/100\n",
      "430/430 [==============================] - 58s 134ms/step - loss: 0.0570 - accuracy: 0.9839 - val_loss: 0.0251 - val_accuracy: 0.9917\n",
      "Epoch 75/100\n",
      "430/430 [==============================] - 58s 134ms/step - loss: 0.0576 - accuracy: 0.9838 - val_loss: 0.0252 - val_accuracy: 0.9919\n",
      "Epoch 76/100\n",
      "430/430 [==============================] - 58s 134ms/step - loss: 0.0536 - accuracy: 0.9847 - val_loss: 0.0249 - val_accuracy: 0.9921\n",
      "Epoch 77/100\n",
      "430/430 [==============================] - 58s 135ms/step - loss: 0.0538 - accuracy: 0.9845 - val_loss: 0.0246 - val_accuracy: 0.9926\n",
      "Epoch 78/100\n",
      "430/430 [==============================] - 58s 135ms/step - loss: 0.0557 - accuracy: 0.9846 - val_loss: 0.0248 - val_accuracy: 0.9923\n",
      "Epoch 79/100\n",
      "430/430 [==============================] - 58s 136ms/step - loss: 0.0542 - accuracy: 0.9845 - val_loss: 0.0250 - val_accuracy: 0.9922\n",
      "Epoch 80/100\n",
      "430/430 [==============================] - 62s 143ms/step - loss: 0.0527 - accuracy: 0.9847 - val_loss: 0.0231 - val_accuracy: 0.9929\n",
      "Epoch 81/100\n",
      "430/430 [==============================] - 63s 146ms/step - loss: 0.0508 - accuracy: 0.9851 - val_loss: 0.0242 - val_accuracy: 0.9929\n",
      "Epoch 82/100\n",
      "430/430 [==============================] - 60s 139ms/step - loss: 0.0527 - accuracy: 0.9854 - val_loss: 0.0241 - val_accuracy: 0.9929\n",
      "Epoch 83/100\n",
      "430/430 [==============================] - 58s 135ms/step - loss: 0.0523 - accuracy: 0.9853 - val_loss: 0.0235 - val_accuracy: 0.9931\n",
      "Epoch 84/100\n",
      "430/430 [==============================] - 58s 135ms/step - loss: 0.0526 - accuracy: 0.9849 - val_loss: 0.0235 - val_accuracy: 0.9927\n",
      "Epoch 85/100\n",
      "430/430 [==============================] - 58s 135ms/step - loss: 0.0504 - accuracy: 0.9853 - val_loss: 0.0237 - val_accuracy: 0.9925\n",
      "Epoch 86/100\n",
      "430/430 [==============================] - 59s 137ms/step - loss: 0.0516 - accuracy: 0.9849 - val_loss: 0.0234 - val_accuracy: 0.9923\n",
      "Epoch 87/100\n",
      "430/430 [==============================] - 58s 135ms/step - loss: 0.0496 - accuracy: 0.9854 - val_loss: 0.0233 - val_accuracy: 0.9927\n",
      "Epoch 88/100\n",
      "430/430 [==============================] - 58s 135ms/step - loss: 0.0513 - accuracy: 0.9855 - val_loss: 0.0242 - val_accuracy: 0.9923\n",
      "Epoch 89/100\n",
      "430/430 [==============================] - 58s 135ms/step - loss: 0.0501 - accuracy: 0.9855 - val_loss: 0.0228 - val_accuracy: 0.9929\n",
      "Epoch 90/100\n",
      "430/430 [==============================] - 57s 133ms/step - loss: 0.0509 - accuracy: 0.9861 - val_loss: 0.0228 - val_accuracy: 0.9933\n",
      "Epoch 91/100\n",
      "430/430 [==============================] - 57s 132ms/step - loss: 0.0498 - accuracy: 0.9857 - val_loss: 0.0237 - val_accuracy: 0.9925\n",
      "Epoch 92/100\n",
      "430/430 [==============================] - 57s 134ms/step - loss: 0.0483 - accuracy: 0.9861 - val_loss: 0.0223 - val_accuracy: 0.9927\n",
      "Epoch 93/100\n",
      "430/430 [==============================] - 57s 132ms/step - loss: 0.0477 - accuracy: 0.9865 - val_loss: 0.0220 - val_accuracy: 0.9932\n",
      "Epoch 94/100\n",
      "430/430 [==============================] - 57s 132ms/step - loss: 0.0480 - accuracy: 0.9862 - val_loss: 0.0218 - val_accuracy: 0.9930\n",
      "Epoch 95/100\n",
      "430/430 [==============================] - 58s 134ms/step - loss: 0.0494 - accuracy: 0.9861 - val_loss: 0.0221 - val_accuracy: 0.9925\n",
      "Epoch 96/100\n",
      "430/430 [==============================] - 61s 142ms/step - loss: 0.0467 - accuracy: 0.9863 - val_loss: 0.0227 - val_accuracy: 0.9927\n",
      "Epoch 97/100\n",
      "430/430 [==============================] - 61s 141ms/step - loss: 0.0467 - accuracy: 0.9863 - val_loss: 0.0216 - val_accuracy: 0.9929\n",
      "Epoch 98/100\n",
      "430/430 [==============================] - 62s 145ms/step - loss: 0.0466 - accuracy: 0.9868 - val_loss: 0.0219 - val_accuracy: 0.9935\n",
      "Epoch 99/100\n",
      "430/430 [==============================] - 61s 141ms/step - loss: 0.0464 - accuracy: 0.9868 - val_loss: 0.0211 - val_accuracy: 0.9932\n",
      "Epoch 100/100\n",
      "430/430 [==============================] - 61s 143ms/step - loss: 0.0465 - accuracy: 0.9866 - val_loss: 0.0217 - val_accuracy: 0.9933\n"
     ]
    }
   ],
   "source": [
    "# moodel fitting with training and validation data\n",
    "hist = model.fit(X_train, Y_train,batch_size=128,epochs=,verbose=1,validation_data=(X_test, Y_test),callbacks=[checkpoint_cb,early_stop_cb])"
   ]
  },
  {
   "cell_type": "code",
   "execution_count": 19,
   "id": "fefb9951",
   "metadata": {},
   "outputs": [
    {
     "data": {
      "text/plain": [
       "{'verbose': 1, 'epochs': 100, 'steps': 430}"
      ]
     },
     "execution_count": 19,
     "metadata": {},
     "output_type": "execute_result"
    }
   ],
   "source": [
    "hist.params"
   ]
  },
  {
   "cell_type": "code",
   "execution_count": 20,
   "id": "96177ad3",
   "metadata": {},
   "outputs": [
    {
     "data": {
      "text/plain": [
       "{'loss': [2.182213544845581,\n",
       "  1.1761912107467651,\n",
       "  0.6879286766052246,\n",
       "  0.5008494257926941,\n",
       "  0.39520853757858276,\n",
       "  0.3327242136001587,\n",
       "  0.2929685115814209,\n",
       "  0.2627348303794861,\n",
       "  0.23866304755210876,\n",
       "  0.21689137816429138,\n",
       "  0.20113007724285126,\n",
       "  0.1913488507270813,\n",
       "  0.1804298311471939,\n",
       "  0.16989396512508392,\n",
       "  0.16345220804214478,\n",
       "  0.15695355832576752,\n",
       "  0.14699840545654297,\n",
       "  0.13988257944583893,\n",
       "  0.13502877950668335,\n",
       "  0.13267336785793304,\n",
       "  0.12831048667430878,\n",
       "  0.12253472954034805,\n",
       "  0.11755026876926422,\n",
       "  0.11653000861406326,\n",
       "  0.11392160505056381,\n",
       "  0.11081037670373917,\n",
       "  0.10737143456935883,\n",
       "  0.10461614280939102,\n",
       "  0.1022290363907814,\n",
       "  0.09746705740690231,\n",
       "  0.09811263531446457,\n",
       "  0.09331764280796051,\n",
       "  0.09482061117887497,\n",
       "  0.09031156450510025,\n",
       "  0.0921742245554924,\n",
       "  0.0891340970993042,\n",
       "  0.0890810638666153,\n",
       "  0.08616800606250763,\n",
       "  0.08478399366140366,\n",
       "  0.08247753232717514,\n",
       "  0.0816597267985344,\n",
       "  0.08014791458845139,\n",
       "  0.07922447472810745,\n",
       "  0.07860434800386429,\n",
       "  0.07877381145954132,\n",
       "  0.07950205355882645,\n",
       "  0.0741795226931572,\n",
       "  0.0735917016863823,\n",
       "  0.07385190576314926,\n",
       "  0.07499803602695465,\n",
       "  0.07225235551595688,\n",
       "  0.07169661670923233,\n",
       "  0.07077644020318985,\n",
       "  0.06814566254615784,\n",
       "  0.06792113929986954,\n",
       "  0.06676775962114334,\n",
       "  0.06618443876504898,\n",
       "  0.06669748574495316,\n",
       "  0.06649111211299896,\n",
       "  0.06537145376205444,\n",
       "  0.06244603544473648,\n",
       "  0.06415347009897232,\n",
       "  0.062212344259023666,\n",
       "  0.06298673897981644,\n",
       "  0.06259073317050934,\n",
       "  0.060857150703668594,\n",
       "  0.059063222259283066,\n",
       "  0.05934224650263786,\n",
       "  0.05829102173447609,\n",
       "  0.0587678924202919,\n",
       "  0.06051136180758476,\n",
       "  0.05649111047387123,\n",
       "  0.056629449129104614,\n",
       "  0.056988321244716644,\n",
       "  0.05763855203986168,\n",
       "  0.05356263741850853,\n",
       "  0.0537845715880394,\n",
       "  0.05569770559668541,\n",
       "  0.054159827530384064,\n",
       "  0.052720628678798676,\n",
       "  0.050792355090379715,\n",
       "  0.052744507789611816,\n",
       "  0.05231165513396263,\n",
       "  0.05260284245014191,\n",
       "  0.05043625086545944,\n",
       "  0.05161474272608757,\n",
       "  0.04961816221475601,\n",
       "  0.051324814558029175,\n",
       "  0.050104089081287384,\n",
       "  0.050910111516714096,\n",
       "  0.049798645079135895,\n",
       "  0.048302095383405685,\n",
       "  0.04773915559053421,\n",
       "  0.04801636561751366,\n",
       "  0.04938056319952011,\n",
       "  0.04666727036237717,\n",
       "  0.04666438326239586,\n",
       "  0.04662635922431946,\n",
       "  0.046410009264945984,\n",
       "  0.04652436450123787],\n",
       " 'accuracy': [0.21050909161567688,\n",
       "  0.5959454774856567,\n",
       "  0.7749090790748596,\n",
       "  0.8444181680679321,\n",
       "  0.878600001335144,\n",
       "  0.899545431137085,\n",
       "  0.9137091040611267,\n",
       "  0.9225817918777466,\n",
       "  0.930363655090332,\n",
       "  0.9371636509895325,\n",
       "  0.9412000179290771,\n",
       "  0.9441999793052673,\n",
       "  0.9479636549949646,\n",
       "  0.9502363801002502,\n",
       "  0.9528363347053528,\n",
       "  0.9546181559562683,\n",
       "  0.9572908878326416,\n",
       "  0.9594908952713013,\n",
       "  0.9612181782722473,\n",
       "  0.9620181918144226,\n",
       "  0.9644908905029297,\n",
       "  0.9651636481285095,\n",
       "  0.9660727381706238,\n",
       "  0.9659454822540283,\n",
       "  0.9678727388381958,\n",
       "  0.9686909317970276,\n",
       "  0.9701091051101685,\n",
       "  0.9698908925056458,\n",
       "  0.9712727069854736,\n",
       "  0.9721272587776184,\n",
       "  0.9718363881111145,\n",
       "  0.97361820936203,\n",
       "  0.972599983215332,\n",
       "  0.9739636182785034,\n",
       "  0.9738909006118774,\n",
       "  0.9741272926330566,\n",
       "  0.974399983882904,\n",
       "  0.9757999777793884,\n",
       "  0.9763454794883728,\n",
       "  0.9757999777793884,\n",
       "  0.9769272804260254,\n",
       "  0.9770545363426208,\n",
       "  0.9771090745925903,\n",
       "  0.9772909283638,\n",
       "  0.9780727028846741,\n",
       "  0.977436363697052,\n",
       "  0.979163646697998,\n",
       "  0.9787272810935974,\n",
       "  0.9797636270523071,\n",
       "  0.9792909026145935,\n",
       "  0.9798908829689026,\n",
       "  0.9797636270523071,\n",
       "  0.9794727563858032,\n",
       "  0.9802908897399902,\n",
       "  0.9807817935943604,\n",
       "  0.980400025844574,\n",
       "  0.9809272885322571,\n",
       "  0.981072723865509,\n",
       "  0.9816545248031616,\n",
       "  0.9814727306365967,\n",
       "  0.9824363589286804,\n",
       "  0.9819454550743103,\n",
       "  0.9827818274497986,\n",
       "  0.982200026512146,\n",
       "  0.9824181795120239,\n",
       "  0.9826181530952454,\n",
       "  0.9826727509498596,\n",
       "  0.9836000204086304,\n",
       "  0.9837454557418823,\n",
       "  0.9831636548042297,\n",
       "  0.9831091165542603,\n",
       "  0.9837272763252258,\n",
       "  0.9842363595962524,\n",
       "  0.9839090704917908,\n",
       "  0.9838181734085083,\n",
       "  0.9847272634506226,\n",
       "  0.9844909310340881,\n",
       "  0.9845636487007141,\n",
       "  0.9844545722007751,\n",
       "  0.9847090840339661,\n",
       "  0.9850909113883972,\n",
       "  0.9853636622428894,\n",
       "  0.9853090643882751,\n",
       "  0.9849454760551453,\n",
       "  0.9852727055549622,\n",
       "  0.9848909378051758,\n",
       "  0.9853636622428894,\n",
       "  0.9855090975761414,\n",
       "  0.9854909181594849,\n",
       "  0.986054539680481,\n",
       "  0.9856545329093933,\n",
       "  0.9861272573471069,\n",
       "  0.9864545464515686,\n",
       "  0.9861817955970764,\n",
       "  0.986090898513794,\n",
       "  0.9863272905349731,\n",
       "  0.9862727522850037,\n",
       "  0.9868000149726868,\n",
       "  0.9868000149726868,\n",
       "  0.9865999817848206],\n",
       " 'val_loss': [1.4464093446731567,\n",
       "  0.4695597290992737,\n",
       "  0.282764196395874,\n",
       "  0.20324398577213287,\n",
       "  0.1647510677576065,\n",
       "  0.14017735421657562,\n",
       "  0.12149466574192047,\n",
       "  0.11183062940835953,\n",
       "  0.09908410161733627,\n",
       "  0.09082499891519547,\n",
       "  0.08456777036190033,\n",
       "  0.07836975157260895,\n",
       "  0.0727824792265892,\n",
       "  0.07137127220630646,\n",
       "  0.06637997925281525,\n",
       "  0.06289597600698471,\n",
       "  0.05985965579748154,\n",
       "  0.05947171524167061,\n",
       "  0.05614431947469711,\n",
       "  0.0529584176838398,\n",
       "  0.052214182913303375,\n",
       "  0.05031593516469002,\n",
       "  0.047528933733701706,\n",
       "  0.04719176143407822,\n",
       "  0.04525716230273247,\n",
       "  0.04445074126124382,\n",
       "  0.042208414524793625,\n",
       "  0.040660310536623,\n",
       "  0.04096229746937752,\n",
       "  0.0403551422059536,\n",
       "  0.03886374086141586,\n",
       "  0.038398388773202896,\n",
       "  0.03861422464251518,\n",
       "  0.036581143736839294,\n",
       "  0.03709802404046059,\n",
       "  0.037537477910518646,\n",
       "  0.03623310476541519,\n",
       "  0.03564182296395302,\n",
       "  0.033956192433834076,\n",
       "  0.035128235816955566,\n",
       "  0.03407062962651253,\n",
       "  0.03331613540649414,\n",
       "  0.03293502330780029,\n",
       "  0.03229596093297005,\n",
       "  0.031959012150764465,\n",
       "  0.03102177195250988,\n",
       "  0.03094380721449852,\n",
       "  0.03107394464313984,\n",
       "  0.030045513063669205,\n",
       "  0.030945302918553352,\n",
       "  0.029824990779161453,\n",
       "  0.02875542640686035,\n",
       "  0.02902607060968876,\n",
       "  0.02852776274085045,\n",
       "  0.027908558025956154,\n",
       "  0.027954760938882828,\n",
       "  0.02825121209025383,\n",
       "  0.02850000001490116,\n",
       "  0.02757207304239273,\n",
       "  0.028604071587324142,\n",
       "  0.027476226910948753,\n",
       "  0.026936834678053856,\n",
       "  0.026942146942019463,\n",
       "  0.026095086708664894,\n",
       "  0.02615860290825367,\n",
       "  0.02596350759267807,\n",
       "  0.02605746127665043,\n",
       "  0.02586095966398716,\n",
       "  0.02524799481034279,\n",
       "  0.02726694382727146,\n",
       "  0.025437112897634506,\n",
       "  0.02560589276254177,\n",
       "  0.02540994994342327,\n",
       "  0.02510846219956875,\n",
       "  0.025246918201446533,\n",
       "  0.024888327345252037,\n",
       "  0.024592362344264984,\n",
       "  0.024759607389569283,\n",
       "  0.024968178942799568,\n",
       "  0.023089559748768806,\n",
       "  0.024158485233783722,\n",
       "  0.02410694770514965,\n",
       "  0.023482179269194603,\n",
       "  0.023520760238170624,\n",
       "  0.023724602535367012,\n",
       "  0.02339860610663891,\n",
       "  0.02332313545048237,\n",
       "  0.02421974204480648,\n",
       "  0.02278074063360691,\n",
       "  0.02279677800834179,\n",
       "  0.02372947707772255,\n",
       "  0.022284692153334618,\n",
       "  0.02202487178146839,\n",
       "  0.021842019632458687,\n",
       "  0.022147344425320625,\n",
       "  0.022675402462482452,\n",
       "  0.021647052839398384,\n",
       "  0.021929757669568062,\n",
       "  0.02107587642967701,\n",
       "  0.021681558340787888],\n",
       " 'val_accuracy': [0.680400013923645,\n",
       "  0.8859999775886536,\n",
       "  0.9275000095367432,\n",
       "  0.9426000118255615,\n",
       "  0.9520999789237976,\n",
       "  0.9577999711036682,\n",
       "  0.9635000228881836,\n",
       "  0.9666000008583069,\n",
       "  0.9688000082969666,\n",
       "  0.9718999862670898,\n",
       "  0.9736999869346619,\n",
       "  0.9754999876022339,\n",
       "  0.9776999950408936,\n",
       "  0.9775000214576721,\n",
       "  0.9793000221252441,\n",
       "  0.9810000061988831,\n",
       "  0.9807000160217285,\n",
       "  0.9815000295639038,\n",
       "  0.9811999797821045,\n",
       "  0.982699990272522,\n",
       "  0.9836000204086304,\n",
       "  0.984499990940094,\n",
       "  0.9847000241279602,\n",
       "  0.9850000143051147,\n",
       "  0.9848999977111816,\n",
       "  0.9854000210762024,\n",
       "  0.9861000180244446,\n",
       "  0.9868000149726868,\n",
       "  0.9872999787330627,\n",
       "  0.9864000082015991,\n",
       "  0.9872999787330627,\n",
       "  0.9872999787330627,\n",
       "  0.9878000020980835,\n",
       "  0.9876000285148621,\n",
       "  0.9879000186920166,\n",
       "  0.988099992275238,\n",
       "  0.9878000020980835,\n",
       "  0.9879000186920166,\n",
       "  0.989300012588501,\n",
       "  0.9886999726295471,\n",
       "  0.9894000291824341,\n",
       "  0.9894999861717224,\n",
       "  0.9896000027656555,\n",
       "  0.9894999861717224,\n",
       "  0.9897000193595886,\n",
       "  0.9904999732971191,\n",
       "  0.9904999732971191,\n",
       "  0.9898999929428101,\n",
       "  0.9902999997138977,\n",
       "  0.9901999831199646,\n",
       "  0.9902999997138977,\n",
       "  0.9907000064849854,\n",
       "  0.9907000064849854,\n",
       "  0.9914000034332275,\n",
       "  0.9915000200271606,\n",
       "  0.9915000200271606,\n",
       "  0.9916999936103821,\n",
       "  0.9915000200271606,\n",
       "  0.9916999936103821,\n",
       "  0.9907000064849854,\n",
       "  0.9916999936103821,\n",
       "  0.9922000169754028,\n",
       "  0.9919000267982483,\n",
       "  0.9919000267982483,\n",
       "  0.9919000267982483,\n",
       "  0.9919999837875366,\n",
       "  0.9922000169754028,\n",
       "  0.9922000169754028,\n",
       "  0.9916999936103821,\n",
       "  0.9914000034332275,\n",
       "  0.9922999739646912,\n",
       "  0.9923999905586243,\n",
       "  0.9918000102043152,\n",
       "  0.9916999936103821,\n",
       "  0.9919000267982483,\n",
       "  0.9921000003814697,\n",
       "  0.9926000237464905,\n",
       "  0.9922999739646912,\n",
       "  0.9922000169754028,\n",
       "  0.992900013923645,\n",
       "  0.992900013923645,\n",
       "  0.992900013923645,\n",
       "  0.9930999875068665,\n",
       "  0.9926999807357788,\n",
       "  0.9925000071525574,\n",
       "  0.9922999739646912,\n",
       "  0.9926999807357788,\n",
       "  0.9922999739646912,\n",
       "  0.992900013923645,\n",
       "  0.9933000206947327,\n",
       "  0.9925000071525574,\n",
       "  0.9926999807357788,\n",
       "  0.9932000041007996,\n",
       "  0.9929999709129333,\n",
       "  0.9925000071525574,\n",
       "  0.9926999807357788,\n",
       "  0.992900013923645,\n",
       "  0.9934999942779541,\n",
       "  0.9932000041007996,\n",
       "  0.9933000206947327]}"
      ]
     },
     "execution_count": 20,
     "metadata": {},
     "output_type": "execute_result"
    }
   ],
   "source": [
    "# to know all the epoch results use this\n",
    "\n",
    "hist.history"
   ]
  },
  {
   "cell_type": "code",
   "execution_count": 21,
   "id": "b39b2c55",
   "metadata": {},
   "outputs": [
    {
     "data": {
      "image/png": "[encoded data removed]",
      "text/plain": [
       "<Figure size 1080x360 with 1 Axes>"
      ]
     },
     "metadata": {
      "needs_background": "light"
     },
     "output_type": "display_data"
    }
   ],
   "source": [
    "# plotting the loss and accuracy of training and validation data\n",
    "pd.DataFrame(hist.history).plot()\n",
    "plt.grid()\n",
    "plt.show()"
   ]
  },
  {
   "cell_type": "code",
   "execution_count": 22,
   "id": "f3f41a86",
   "metadata": {},
   "outputs": [
    {
     "name": "stdout",
     "output_type": "stream",
     "text": [
      "1719/1719 [==============================] - 13s 8ms/step - loss: 0.0145 - accuracy: 0.9956\n"
     ]
    },
    {
     "data": {
      "text/plain": [
       "[0.01446627639234066, 0.9955999851226807]"
      ]
     },
     "execution_count": 22,
     "metadata": {},
     "output_type": "execute_result"
    }
   ],
   "source": [
    "# to get the training accuracy\n",
    "model.evaluate(X_train,Y_train)"
   ]
  },
  {
   "cell_type": "code",
   "execution_count": 23,
   "id": "08e2ea11",
   "metadata": {},
   "outputs": [
    {
     "name": "stdout",
     "output_type": "stream",
     "text": [
      "313/313 [==============================] - 2s 7ms/step - loss: 0.0217 - accuracy: 0.9933\n"
     ]
    },
    {
     "data": {
      "text/plain": [
       "[0.02168154902756214, 0.9933000206947327]"
      ]
     },
     "execution_count": 23,
     "metadata": {},
     "output_type": "execute_result"
    }
   ],
   "source": [
    "# to get the testing accuracy\n",
    "model.evaluate(X_test,Y_test)"
   ]
  },
  {
   "cell_type": "markdown",
   "id": "d16011b9",
   "metadata": {},
   "source": [
    "."
   ]
  },
  {
   "cell_type": "markdown",
   "id": "dd09628e",
   "metadata": {},
   "source": [
    "# Testing data on testing data"
   ]
  },
  {
   "cell_type": "code",
   "execution_count": 24,
   "id": "139866d3",
   "metadata": {},
   "outputs": [
    {
     "name": "stdout",
     "output_type": "stream",
     "text": [
      "the shape of prediction input is (5, 28, 28, 1)\n",
      "WARNING:tensorflow:From <ipython-input-24-88b93e15c530>:4: Sequential.predict_classes (from tensorflow.python.keras.engine.sequential) is deprecated and will be removed after 2021-01-01.\n",
      "Instructions for updating:\n",
      "Please use instead:* `np.argmax(model.predict(x), axis=-1)`,   if your model does multi-class classification   (e.g. if it uses a `softmax` last-layer activation).* `(model.predict(x) > 0.5).astype(\"int32\")`,   if your model does binary classification   (e.g. if it uses a `sigmoid` last-layer activation).\n"
     ]
    },
    {
     "data": {
      "text/plain": [
       "array([7, 2, 1, 0, 4])"
      ]
     },
     "execution_count": 24,
     "metadata": {},
     "output_type": "execute_result"
    }
   ],
   "source": [
    "X_new=X_test[:5]\n",
    "print(f\"the shape of prediction input is {X_new.shape}\")\n",
    "Y_proba= model.predict(X_new)\n",
    "Y_pred = model.predict_classes(X_new)\n",
    "\n",
    "#predicted values\n",
    "np.array(class_names)[Y_pred]"
   ]
  },
  {
   "cell_type": "code",
   "execution_count": null,
   "id": "b98bf4ee",
   "metadata": {},
   "outputs": [],
   "source": []
  },
  {
   "cell_type": "code",
   "execution_count": null,
   "id": "443b7b6a",
   "metadata": {},
   "outputs": [],
   "source": []
  },
  {
   "cell_type": "code",
   "execution_count": 30,
   "id": "a6c44f59",
   "metadata": {},
   "outputs": [
    {
     "data": {
      "text/plain": [
       "array([7, 2, 1, 0, 4])"
      ]
     },
     "execution_count": 30,
     "metadata": {},
     "output_type": "execute_result"
    }
   ],
   "source": [
    "np.array(class_names)[Y_pred]"
   ]
  },
  {
   "cell_type": "code",
   "execution_count": 33,
   "id": "2ddde042",
   "metadata": {
    "scrolled": false
   },
   "outputs": [
    {
     "data": {
      "text/plain": [
       "Text(0.5, 1.0, '4')"
      ]
     },
     "execution_count": 33,
     "metadata": {},
     "output_type": "execute_result"
    },
    {
     "data": {
      "image/png": "[encoded data removed]",
      "text/plain": [
       "<Figure size 1080x360 with 5 Axes>"
      ]
     },
     "metadata": {
      "needs_background": "light"
     },
     "output_type": "display_data"
    }
   ],
   "source": [
    "# Seeing images from rows and its predicted value\n",
    "plt.rcParams['figure.figsize'] = (15, 5)\n",
    "plt.suptitle(\"Predicted values\",size=20)\n",
    "plt.subplot(1,5,1)\n",
    "plt.imshow(X_test[0])\n",
    "plt.title(np.array(class_names)[Y_pred][0])\n",
    "\n",
    "\n",
    "plt.subplot(1,5,2)\n",
    "plt.imshow(X_test[1])\n",
    "plt.title(np.array(class_names)[Y_pred][1])\n",
    "\n",
    "plt.subplot(1,5,3)\n",
    "plt.imshow(X_test[2])\n",
    "plt.title(np.array(class_names)[Y_pred][2])\n",
    "\n",
    "plt.subplot(1,5,4)\n",
    "plt.imshow(X_test[3])\n",
    "plt.title(np.array(class_names)[Y_pred][3])\n",
    "\n",
    "plt.subplot(1,5,5)\n",
    "plt.imshow(X_test[4])\n",
    "plt.title(np.array(class_names)[Y_pred][4])"
   ]
  },
  {
   "cell_type": "markdown",
   "id": "7f182455",
   "metadata": {},
   "source": [
    "# Saving the model for future use"
   ]
  },
  {
   "cell_type": "code",
   "execution_count": 27,
   "id": "59d997f4",
   "metadata": {},
   "outputs": [],
   "source": [
    "# remove the hash from below line to save model\n",
    "# we have already saved the model\n",
    "model.save(\"mnist_p.h5\")"
   ]
  },
  {
   "cell_type": "markdown",
   "id": "2c440c87",
   "metadata": {},
   "source": [
    "# Model Training Done\n",
    "Now to make a GUI for live prediction we have two ways one to use tkinter module and other is use pygame.\n"
   ]
  },
  {
   "cell_type": "code",
   "execution_count": null,
   "id": "19237cd5",
   "metadata": {},
   "outputs": [],
   "source": []
  }
 ],
 "metadata": {
  "kernelspec": {
   "display_name": "Python 3",
   "language": "python",
   "name": "python3"
  },
  "language_info": {
   "codemirror_mode": {
    "name": "ipython",
    "version": 3
   },
   "file_extension": ".py",
   "mimetype": "text/x-python",
   "name": "python",
   "nbconvert_exporter": "python",
   "pygments_lexer": "ipython3",
   "version": "3.8.8"
  }
 },
 "nbformat": 4,
 "nbformat_minor": 5
}
