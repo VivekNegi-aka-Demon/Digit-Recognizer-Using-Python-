{
 "cells": [
  {
   "cell_type": "code",
   "execution_count": 2,
   "id": "95c77331",
   "metadata": {},
   "outputs": [
    {
     "name": "stdout",
     "output_type": "stream",
     "text": [
      "pygame 2.1.2 (SDL 2.0.18, Python 3.8.8)\n",
      "Hello from the pygame community. https://www.pygame.org/contribute.html\n"
     ]
    }
   ],
   "source": [
    "# Importing All the libraries\n",
    "import cv2\n",
    "import tensorflow as tf\n",
    "from tensorflow import keras\n",
    "import numpy as np\n",
    "import pygame\n",
    "import matplotlib.pyplot as plt"
   ]
  },
  {
   "cell_type": "code",
   "execution_count": 8,
   "id": "7483a8d7",
   "metadata": {},
   "outputs": [
    {
     "name": "stdout",
     "output_type": "stream",
     "text": [
      "WARNING:tensorflow:6 out of the last 6 calls to <function Model.make_predict_function.<locals>.predict_function at 0x000001FE20F5D8B0> triggered tf.function retracing. Tracing is expensive and the excessive number of tracings could be due to (1) creating @tf.function repeatedly in a loop, (2) passing tensors with different shapes, (3) passing Python objects instead of tensors. For (1), please define your @tf.function outside of the loop. For (2), @tf.function has experimental_relax_shapes=True option that relaxes argument shapes that can avoid unnecessary retracing. For (3), please refer to https://www.tensorflow.org/tutorials/customization/performance#python_or_tensor_args and https://www.tensorflow.org/api_docs/python/tf/function for  more details.\n"
     ]
    },
    {
     "data": {
      "text/plain": [
       "-1"
      ]
     },
     "execution_count": 8,
     "metadata": {},
     "output_type": "execute_result"
    }
   ],
   "source": [
    "#initializing pygame\n",
    "pygame.init()\n",
    "\n",
    "#Setting the display size and color\n",
    "screen = pygame.display.set_mode((300, 400))\n",
    "screen.fill((255, 255, 255))\n",
    "pygame.display.set_caption(\"Write a digit\")\n",
    "\n",
    "\n",
    "\n",
    "#To create a paint like canvas\n",
    "loop = True\n",
    "while loop:\n",
    "    for event in pygame.event.get():\n",
    "        if event.type == pygame.QUIT:\n",
    "            #Saving the image as num.png\n",
    "            \n",
    "            pygame.image.save(screen, 'num.png')\n",
    "            loop = False\n",
    "    x, y = pygame.mouse.get_pos()\n",
    "    if pygame.mouse.get_pressed() == (1, 0, 0):\n",
    "        pygame.draw.circle(screen, (0, 0, 0), (x, y), 20)\n",
    "    pygame.display.update()\n",
    "\n",
    "#Quitting the pygame terminal\n",
    "pygame.quit()\n",
    "\n",
    "# reading the image made earlier \n",
    "img = cv2.imread(\"num.png\")\n",
    "\n",
    "#calling the model trained\n",
    "model=keras.models.load_model(\"model/mnist_p.h5\")\n",
    "\n",
    "img=cv2.imread('num.png',0)\n",
    "\n",
    "#reversing the colors of img\n",
    "img=cv2.bitwise_not(img)\n",
    "\n",
    "#resizing and reshaping the img variable\n",
    "img=cv2.resize(img,(28,28))\n",
    "img=img.reshape(1,28,28,1)\n",
    "\n",
    "#normalizing the image\n",
    "img=img/255.\n",
    "\n",
    "#making a prediction\n",
    "pred=model.predict(img)\n",
    "\n",
    "#making the im variable for image again to make the boundary on number\n",
    "im = cv2.imread(\"num.png\")\n",
    "\n",
    "#converting the image to the way of images we trained our data(but in inverse colors)\n",
    "im_gray = cv2.cvtColor(im, cv2.COLOR_BGR2GRAY)\n",
    "im_gray = cv2.GaussianBlur(im_gray, (3, 3), 0)\n",
    "#use this to see the image made\n",
    "#plt.imshow(im_gray)\n",
    "\n",
    "#revering the colors\n",
    "im_th = cv2.threshold(im_gray, 90, 255, cv2.THRESH_BINARY_INV)[1]\n",
    "#use this to see the thermal-like image\n",
    "#plt.imshow(im_th)\n",
    "\n",
    "#to create a green rectangle\n",
    "ctrs, hier = cv2.findContours(im_th.copy(), cv2.RETR_EXTERNAL, cv2.CHAIN_APPROX_SIMPLE)\n",
    "rects = [cv2.boundingRect(ctr) for ctr in ctrs]\n",
    "for rect in rects:\n",
    "    cv2.rectangle(im, (rect[0], rect[1]), (rect[0] + rect[2], rect[1] + rect[3]), (0, 255, 0), 3)\n",
    "    leng = int(rect[3] * 1.6)\n",
    "    pt1 = int(rect[1] + rect[3] // 2 - leng // 2)\n",
    "    pt2 = int(rect[0] + rect[2] // 2 - leng // 2)\n",
    "    roi = im_th[pt1:pt1+leng, pt2:pt2+leng]\n",
    "    \n",
    "    height, width = roi.shape\n",
    "    \n",
    "    if height != 0 and width != 0:\n",
    "        cv2.putText(im, str(np.argmax(pred[0])), (rect[0], rect[1]), cv2.FONT_HERSHEY_PLAIN, 2, (0, 0, 0), 3)\n",
    "cv2.imshow(\"Predictions\", im)\n",
    "cv2.waitKey()"
   ]
  },
  {
   "cell_type": "code",
   "execution_count": null,
   "id": "04c667f5",
   "metadata": {},
   "outputs": [],
   "source": []
  }
 ],
 "metadata": {
  "kernelspec": {
   "display_name": "Python 3",
   "language": "python",
   "name": "python3"
  },
  "language_info": {
   "codemirror_mode": {
    "name": "ipython",
    "version": 3
   },
   "file_extension": ".py",
   "mimetype": "text/x-python",
   "name": "python",
   "nbconvert_exporter": "python",
   "pygments_lexer": "ipython3",
   "version": "3.8.8"
  }
 },
 "nbformat": 4,
 "nbformat_minor": 5
}
