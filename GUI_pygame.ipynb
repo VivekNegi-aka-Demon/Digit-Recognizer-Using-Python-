{
 "cells": [
  {
   "cell_type": "code",
   "execution_count": null,
   "id": "e583a640",
   "metadata": {},
   "outputs": [],
   "source": []
  },
  {
   "cell_type": "code",
   "execution_count": 1,
   "id": "95c77331",
   "metadata": {},
   "outputs": [
    {
     "name": "stdout",
     "output_type": "stream",
     "text": [
      "pygame 2.1.2 (SDL 2.0.18, Python 3.8.8)\n",
      "Hello from the pygame community. https://www.pygame.org/contribute.html\n"
     ]
    }
   ],
   "source": [
    "# Importing All the libraries\n",
    "import cv2\n",
    "import tensorflow as tf\n",
    "from tensorflow import keras\n",
    "import numpy as np\n",
    "import pygame\n",
    "import matplotlib.pyplot as plt"
   ]
  },
  {
   "cell_type": "code",
   "execution_count": 4,
   "id": "7483a8d7",
   "metadata": {},
   "outputs": [
    {
     "data": {
      "text/plain": [
       "-1"
      ]
     },
     "execution_count": 4,
     "metadata": {},
     "output_type": "execute_result"
    }
   ],
   "source": [
    "\n",
    "#initializing pygame\n",
    "pygame.init()\n",
    "\n",
    "#Setting the display size and color\n",
    "screen = pygame.display.set_mode((300, 400))\n",
    "screen.fill((255, 255, 255))\n",
    "pygame.display.set_caption(\"Write a digit\")\n",
    "screen.get_size()\n",
    "\n",
    "\n",
    "#To create a paint like canvas\n",
    "loop = True\n",
    "while loop:\n",
    "    for event in pygame.event.get():\n",
    "        if event.type == pygame.QUIT:\n",
    "            #Saving the image as num.png\n",
    "\n",
    "            pygame.image.save(screen, 'num.png')\n",
    "            loop = False\n",
    "    x, y = pygame.mouse.get_pos()\n",
    "    if pygame.mouse.get_pressed() == (1, 0, 0):\n",
    "        pygame.draw.circle(screen, (0, 0, 0), (x, y), 20)\n",
    "    pygame.display.update()\n",
    "\n",
    "#Quitting the pygame terminal\n",
    "pygame.quit()\n",
    "\n",
    "# reading the image made earlier \n",
    "img = cv2.imread(\"num.png\")\n",
    "\n",
    "#calling the model trained\n",
    "model=keras.models.load_model(\"model/mnist_p.h5\")\n",
    "\n",
    "img=cv2.imread('num.png',0)\n",
    "img2=cv2.imread('num.png',0)\n",
    "#reversing the colors of img\n",
    "img=cv2.bitwise_not(img)\n",
    "\n",
    "#resizing and reshaping the img variable\n",
    "img=cv2.resize(img,(28,28))\n",
    "img=img.reshape(1,28,28,1)\n",
    "\n",
    "#normalizing the image\n",
    "img=img/255.\n",
    "\n",
    "#making a prediction\n",
    "pred=model.predict(img)\n",
    "\n",
    "\n",
    "#making the im variable for image again to make the boundary on number\n",
    "\n",
    "cv2.putText(img2,str(np.argmax(pred[0])),(0,390),cv2.FONT_HERSHEY_COMPLEX, 2 , (0,255,255) ,3)\n",
    "cv2.imshow(\"Predictions\", img2)\n",
    "cv2.waitKey()\n",
    "\n",
    "    "
   ]
  },
  {
   "cell_type": "code",
   "execution_count": null,
   "id": "04c667f5",
   "metadata": {},
   "outputs": [],
   "source": []
  },
  {
   "cell_type": "code",
   "execution_count": null,
   "id": "1086745c",
   "metadata": {},
   "outputs": [],
   "source": []
  }
 ],
 "metadata": {
  "kernelspec": {
   "display_name": "Python 3",
   "language": "python",
   "name": "python3"
  },
  "language_info": {
   "codemirror_mode": {
    "name": "ipython",
    "version": 3
   },
   "file_extension": ".py",
   "mimetype": "text/x-python",
   "name": "python",
   "nbconvert_exporter": "python",
   "pygments_lexer": "ipython3",
   "version": "3.8.8"
  }
 },
 "nbformat": 4,
 "nbformat_minor": 5
}
